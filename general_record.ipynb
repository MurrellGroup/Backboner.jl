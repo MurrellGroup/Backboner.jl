{
 "cells": [
  {
   "cell_type": "code",
   "execution_count": null,
   "metadata": {},
   "outputs": [],
   "source": [
    "n_entries = 10\n",
    "min_rec_length = 10\n",
    "max_rec_length = 10_000\n",
    "recs = GeneralRecord[]\n",
    "\n",
    "for entry in sample(entries, n_entries)\n",
    "    println(entry)\n",
    "    \n",
    "    downloadpdb(entry; ba_number = 1, dir = \"temp\")\n",
    "    rec = GeneralRecord(entry * \"_ba1.pdb\"; dir = \"temp\")\n",
    "\n",
    "    if min_rec_length < length(rec.sequence) <= max_rec_length \n",
    "        push!(recs, rec)\n",
    "    end\n",
    "end\n",
    "\n",
    "rec = recs[1]"
   ]
  },
  {
   "cell_type": "code",
   "execution_count": null,
   "metadata": {},
   "outputs": [],
   "source": [
    "import Pkg; Pkg.activate(\".\")"
   ]
  },
  {
   "cell_type": "code",
   "execution_count": null,
   "metadata": {},
   "outputs": [],
   "source": [
    "using Revise, Backboner, Backboner.ProteinData, BioStructures, StatsBase"
   ]
  },
  {
   "cell_type": "code",
   "execution_count": null,
   "metadata": {},
   "outputs": [],
   "source": [
    "entries = pdbentrylist()"
   ]
  },
  {
   "cell_type": "code",
   "execution_count": null,
   "metadata": {},
   "outputs": [],
   "source": [
    "entry = \"100D\"\n",
    "downloadpdb(entry; ba_number = 1, dir = \"temp\")"
   ]
  },
  {
   "cell_type": "code",
   "execution_count": 10,
   "metadata": {},
   "outputs": [
    {
     "data": {
      "text/plain": [
       "136-element Vector{Int64}:\n",
       "   6\n",
       "   7\n",
       "   8\n",
       "   9\n",
       "  10\n",
       "  11\n",
       "  12\n",
       "  13\n",
       "  14\n",
       "  15\n",
       "   ⋮\n",
       " 133\n",
       " 134\n",
       " 135\n",
       " 136\n",
       " 137\n",
       " 138\n",
       " 139\n",
       " 140\n",
       " 141"
      ]
     },
     "metadata": {},
     "output_type": "display_data"
    }
   ],
   "source": [
    "GeneralRecord(\"1SNO_ba1.pdb\"; dir = \"temp\").resnumbers"
   ]
  }
 ],
 "metadata": {
  "kernelspec": {
   "display_name": "Julia 1.10.0",
   "language": "julia",
   "name": "julia-1.10"
  },
  "language_info": {
   "file_extension": ".jl",
   "mimetype": "application/julia",
   "name": "julia",
   "version": "1.10.0"
  }
 },
 "nbformat": 4,
 "nbformat_minor": 2
}
