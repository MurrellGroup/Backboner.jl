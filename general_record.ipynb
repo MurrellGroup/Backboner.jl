{
 "cells": [
  {
   "cell_type": "code",
   "execution_count": 1,
   "metadata": {},
   "outputs": [
    {
     "name": "stderr",
     "output_type": "stream",
     "text": [
      "\u001b[32m\u001b[1m  Activating\u001b[22m\u001b[39m project at `c:\\Users\\anton\\.julia\\dev\\Backboner`"
     ]
    },
    {
     "name": "stderr",
     "output_type": "stream",
     "text": [
      "\n"
     ]
    }
   ],
   "source": [
    "import Pkg; Pkg.activate(\".\")"
   ]
  },
  {
   "cell_type": "code",
   "execution_count": 2,
   "metadata": {},
   "outputs": [],
   "source": [
    "using Revise, Backboner, Backboner.ProteinData, BioStructures, StatsBase"
   ]
  },
  {
   "cell_type": "code",
   "execution_count": 4,
   "metadata": {},
   "outputs": [
    {
     "name": "stderr",
     "output_type": "stream",
     "text": [
      "┌ Info: Fetching the list of all PDB entries from the RCSB server\n",
      "└ @ BioStructures C:\\Users\\anton\\.julia\\packages\\BioStructures\\UfNVa\\src\\pdb.jl:66\n"
     ]
    },
    {
     "data": {
      "text/plain": [
       "214226-element Vector{String}:\n",
       " \"100D\"\n",
       " \"101D\"\n",
       " \"101M\"\n",
       " \"102D\"\n",
       " \"102L\"\n",
       " \"102M\"\n",
       " \"103D\"\n",
       " \"103L\"\n",
       " \"103M\"\n",
       " \"104D\"\n",
       " ⋮\n",
       " \"9PCY\"\n",
       " \"9PTI\"\n",
       " \"9RAT\"\n",
       " \"9RNT\"\n",
       " \"9RSA\"\n",
       " \"9RUB\"\n",
       " \"9WGA\"\n",
       " \"9XIA\"\n",
       " \"9XIM\""
      ]
     },
     "metadata": {},
     "output_type": "display_data"
    }
   ],
   "source": [
    "entries = pdbentrylist()"
   ]
  },
  {
   "cell_type": "code",
   "execution_count": 5,
   "metadata": {},
   "outputs": [
    {
     "name": "stderr",
     "output_type": "stream",
     "text": [
      "┌ Info: File exists: 100D\n",
      "└ @ BioStructures C:\\Users\\anton\\.julia\\packages\\BioStructures\\UfNVa\\src\\pdb.jl:236\n"
     ]
    },
    {
     "data": {
      "text/plain": [
       "\"temp\\\\100D_ba1.pdb\""
      ]
     },
     "metadata": {},
     "output_type": "display_data"
    }
   ],
   "source": [
    "entry = \"100D\"\n",
    "downloadpdb(entry; ba_number = 1, dir = \"temp\")"
   ]
  },
  {
   "cell_type": "code",
   "execution_count": 11,
   "metadata": {},
   "outputs": [
    {
     "data": {
      "text/plain": [
       "GeneralRecord(\"100D_ba1\", Int64[], Int64[], \"\", Matrix{Float32}(undef, 4, 0), Matrix{Float32}(undef, 3, 0), Array{Float32, 3}(undef, 3, 3, 0))"
      ]
     },
     "metadata": {},
     "output_type": "display_data"
    }
   ],
   "source": [
    "GeneralRecord(\"1ASS.pdb\"; dir = \"test/data\")"
   ]
  },
  {
   "cell_type": "code",
   "execution_count": 35,
   "metadata": {},
   "outputs": [
    {
     "name": "stderr",
     "output_type": "stream",
     "text": [
      "┌ Error: Failed to revise c:\\Users\\anton\\.julia\\dev\\Backboner\\src\\proteindata\\records.jl\n",
      "│   exception = Revise.ReviseEvalException(\"c:\\\\Users\\\\anton\\\\.julia\\\\dev\\\\Backboner\\\\src\\\\proteindata\\\\records.jl:5\", ErrorException(\"invalid redefinition of type GeneralRecord\"), Any[(top-level scope at records.jl:5, 1)])\n",
      "└ @ Revise C:\\Users\\anton\\.julia\\packages\\Revise\\sCmwS\\src\\packagedef.jl:722\n",
      "┌ Warning: The running code does not match the saved version for the following files:\n",
      "│ \n",
      "│   c:\\Users\\anton\\.julia\\dev\\Backboner\\src\\proteindata\\records.jl\n",
      "│ \n",
      "│ If the error was due to evaluation order, it can sometimes be resolved by calling `Revise.retry()`.\n",
      "│ Use Revise.errors() to report errors again. Only the first error in each file is shown.\n",
      "│ Your prompt color may be yellow until the errors are resolved.\n",
      "└ @ Revise C:\\Users\\anton\\.julia\\packages\\Revise\\sCmwS\\src\\packagedef.jl:832\n"
     ]
    },
    {
     "name": "stdout",
     "output_type": "stream",
     "text": [
      "7PIA\n"
     ]
    },
    {
     "name": "stderr",
     "output_type": "stream",
     "text": [
      "┌ Info: Downloading file from PDB: 7PIA\n",
      "└ @ BioStructures C:\\Users\\anton\\.julia\\packages\\BioStructures\\UfNVa\\src\\pdb.jl:242\n"
     ]
    },
    {
     "ename": "Downloads.RequestError",
     "evalue": "RequestError: HTTP/1.1 404 Not Found while requesting http://files.rcsb.org/download/7PIA.pdb1.gz",
     "output_type": "error",
     "traceback": [
      "RequestError: HTTP/1.1 404 Not Found while requesting http://files.rcsb.org/download/7PIA.pdb1.gz\n",
      "\n",
      "Stacktrace:\n",
      " [1] #3\n",
      "   @ C:\\Users\\anton\\AppData\\Local\\Programs\\julia-1.10.0\\share\\julia\\stdlib\\v1.10\\Downloads\\src\\Downloads.jl:254 [inlined]\n",
      " [2] open(f::Downloads.var\"#3#4\"{Nothing, Vector{Pair{String, String}}, Float64, Nothing, Bool, Nothing, Nothing, String}, args::String; kwargs::@Kwargs{write::Bool, lock::Bool})\n",
      "   @ Base .\\io.jl:396\n",
      " [3] open_nolock\n",
      "   @ ArgTools C:\\Users\\anton\\AppData\\Local\\Programs\\julia-1.10.0\\share\\julia\\stdlib\\v1.10\\ArgTools\\src\\ArgTools.jl:35 [inlined]\n",
      " [4] arg_write(f::Function, arg::String)\n",
      "   @ ArgTools C:\\Users\\anton\\AppData\\Local\\Programs\\julia-1.10.0\\share\\julia\\stdlib\\v1.10\\ArgTools\\src\\ArgTools.jl:103\n",
      " [5] #download#2\n",
      "   @ C:\\Users\\anton\\AppData\\Local\\Programs\\julia-1.10.0\\share\\julia\\stdlib\\v1.10\\Downloads\\src\\Downloads.jl:241 [inlined]\n",
      " [6] download\n",
      "   @ C:\\Users\\anton\\AppData\\Local\\Programs\\julia-1.10.0\\share\\julia\\stdlib\\v1.10\\Downloads\\src\\Downloads.jl:230 [inlined]\n",
      " [7] downloadpdb(pdbid::String; dir::String, format::Type{PDB}, obsolete::Bool, overwrite::Bool, ba_number::Int64)\n",
      "   @ BioStructures C:\\Users\\anton\\.julia\\packages\\BioStructures\\UfNVa\\src\\pdb.jl:251\n",
      " [8] top-level scope\n",
      "   @ c:\\Users\\anton\\.julia\\dev\\Backboner\\general_record.ipynb:6"
     ]
    }
   ],
   "source": [
    "n_entries = 1\n",
    "recs = GeneralRecord[]\n",
    "\n",
    "for entry in sample(entries, n_entries)\n",
    "    println(entry)\n",
    "    downloadpdb(entry; ba_number = 1, dir = \"temp\")\n",
    "    rec = GeneralRecord(entry * \"_ba1.pdb\"; dir = \"temp\")\n",
    "    push!(recs, rec)\n",
    "end\n",
    "\n",
    "rec = recs[1]"
   ]
  }
 ],
 "metadata": {
  "kernelspec": {
   "display_name": "Julia 1.10.0",
   "language": "julia",
   "name": "julia-1.10"
  },
  "language_info": {
   "file_extension": ".jl",
   "mimetype": "application/julia",
   "name": "julia",
   "version": "1.10.0"
  }
 },
 "nbformat": 4,
 "nbformat_minor": 2
}
