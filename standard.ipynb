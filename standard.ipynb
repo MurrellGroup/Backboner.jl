{
 "cells": [
  {
   "cell_type": "code",
   "execution_count": 2,
   "metadata": {},
   "outputs": [
    {
     "name": "stderr",
     "output_type": "stream",
     "text": [
      "\u001b[32m\u001b[1m  Activating\u001b[22m\u001b[39m project at `c:\\Users\\anton\\.julia\\dev\\Backboner`"
     ]
    },
    {
     "name": "stderr",
     "output_type": "stream",
     "text": [
      "\n"
     ]
    }
   ],
   "source": [
    "import Pkg; Pkg.activate(\".\")"
   ]
  },
  {
   "cell_type": "code",
   "execution_count": 5,
   "metadata": {},
   "outputs": [],
   "source": [
    "using Revise, Backboner, Backboner.ProteinData"
   ]
  },
  {
   "cell_type": "code",
   "execution_count": 6,
   "metadata": {},
   "outputs": [
    {
     "data": {
      "text/plain": [
       "3×3 Matrix{Float64}:\n",
       " -1.066  -0.2     1.266\n",
       "  0.645  -0.527  -0.118\n",
       "  0.0     0.0     0.0"
      ]
     },
     "metadata": {},
     "output_type": "display_data"
    }
   ],
   "source": [
    "const ST = [\n",
    "    -1.066  -0.200   1.266;\n",
    "     0.645  -0.527  -0.118;\n",
    "     0.000   0.000   0.000;\n",
    "] #  N       Ca      C"
   ]
  },
  {
   "cell_type": "code",
   "execution_count": 10,
   "metadata": {},
   "outputs": [],
   "source": [
    "frames = Frames(backbone, ST);"
   ]
  },
  {
   "cell_type": "code",
   "execution_count": 7,
   "metadata": {},
   "outputs": [],
   "source": [
    "using Statistics, BioStructures"
   ]
  },
  {
   "cell_type": "code",
   "execution_count": null,
   "metadata": {},
   "outputs": [],
   "source": []
  },
  {
   "cell_type": "code",
   "execution_count": null,
   "metadata": {},
   "outputs": [],
   "source": [
    "avg"
   ]
  },
  {
   "cell_type": "code",
   "execution_count": null,
   "metadata": {},
   "outputs": [],
   "source": [
    "avg = mean(triangles)\n",
    "pl = plot(legend=false)\n",
    "for t in sample(triangles, 5000, replace=false)\n",
    "    plot!(t[1,:], t[2,:], color=\"grey\", alpha=0.02)\n",
    "end\n",
    "plot!(ST[1,:], ST[2,:], color=\"blue\", linewidth=2)\n",
    "plot!(avg[1,:], avg[2,:], color=\"red\", linewidth=2)\n",
    "display(pl)"
   ]
  },
  {
   "cell_type": "code",
   "execution_count": null,
   "metadata": {},
   "outputs": [],
   "source": [
    "using LinearAlgebra\n",
    "# angle between three columns of 'avg' 3x3 matrix\n",
    "function angle(a, b, c)\n",
    "    ab = a - b\n",
    "    cb = c - b\n",
    "    acos(dot(ab, cb) / (norm(ab) * norm(cb)))\n",
    "end\n",
    "rad2deg(angle(eachcol(avg)...)), rad2deg(angle(eachcol(ST)...))"
   ]
  },
  {
   "cell_type": "code",
   "execution_count": null,
   "metadata": {},
   "outputs": [],
   "source": []
  },
  {
   "cell_type": "markdown",
   "metadata": {},
   "source": []
  },
  {
   "cell_type": "code",
   "execution_count": 16,
   "metadata": {},
   "outputs": [],
   "source": [
    "# read all pdbs in ./pdb-files\n",
    "pdbs = readdir(\"temp\") |> filter(x -> endswith(x, \".pdb\"))\n",
    "backbones = Backbone[]\n",
    "for pdb in pdbs\n",
    "    struc = read(\"temp/$pdb\", PDB);\n",
    "    push!(backbones, Backbone(struc))\n",
    "end\n",
    "backbones"
   ]
  },
  {
   "cell_type": "code",
   "execution_count": 13,
   "metadata": {},
   "outputs": [],
   "source": [
    "triangles = Matrix{Float32}[]\n",
    "for backbone in backbones\n",
    "    frames = Frames(backbone, ST);\n",
    "    for (i, (rot, loc)) in enumerate(frames)\n",
    "        triangle = rot' * (backbone.coords[:, 3i-2:3i] .- loc)\n",
    "        push!(triangles, triangle)\n",
    "    end\n",
    "end"
   ]
  },
  {
   "cell_type": "code",
   "execution_count": 12,
   "metadata": {},
   "outputs": [
    {
     "data": {
      "text/plain": [
       "Matrix{Float32}[]"
      ]
     },
     "metadata": {},
     "output_type": "display_data"
    }
   ],
   "source": [
    "triangles"
   ]
  },
  {
   "cell_type": "code",
   "execution_count": null,
   "metadata": {},
   "outputs": [],
   "source": [
    "using Plots"
   ]
  },
  {
   "cell_type": "code",
   "execution_count": null,
   "metadata": {},
   "outputs": [],
   "source": [
    "using StatsBase"
   ]
  }
 ],
 "metadata": {
  "kernelspec": {
   "display_name": "Julia 1.10.0",
   "language": "julia",
   "name": "julia-1.10"
  },
  "language_info": {
   "file_extension": ".jl",
   "mimetype": "application/julia",
   "name": "julia",
   "version": "1.10.0"
  }
 },
 "nbformat": 4,
 "nbformat_minor": 2
}
