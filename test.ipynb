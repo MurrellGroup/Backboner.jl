{
 "cells": [
  {
   "cell_type": "code",
   "execution_count": 1,
   "metadata": {},
   "outputs": [
    {
     "name": "stderr",
     "output_type": "stream",
     "text": [
      "\u001b[32m\u001b[1m  Activating\u001b[22m\u001b[39m project at `c:\\Users\\anton\\.julia\\dev\\Backboner`"
     ]
    },
    {
     "name": "stderr",
     "output_type": "stream",
     "text": [
      "\n"
     ]
    }
   ],
   "source": [
    "import Pkg; Pkg.activate(\".\")"
   ]
  },
  {
   "cell_type": "code",
   "execution_count": 5,
   "metadata": {},
   "outputs": [],
   "source": [
    "using Revise, Backboner"
   ]
  },
  {
   "cell_type": "code",
   "execution_count": 6,
   "metadata": {},
   "outputs": [],
   "source": [
    "using Rotations: QuatRotation, params"
   ]
  },
  {
   "cell_type": "code",
   "execution_count": 270,
   "metadata": {},
   "outputs": [
    {
     "data": {
      "text/plain": [
       "3-element Frames{Float64}:\n",
       " ([0.0 0.0 1.0; 1.0 0.0 0.0; 0.0 1.0 0.0], [0.0, 0.0, 0.0])\n",
       " ([0.0 1.0 0.0; 0.0 0.0 1.0; 1.0 0.0 0.0], [10.0, 0.0, 0.0])\n",
       " ([1.0 0.0 0.0; 0.0 1.0 0.0; 0.0 0.0 1.0], [100.0, 0.0, 0.0])"
      ]
     },
     "metadata": {},
     "output_type": "display_data"
    }
   ],
   "source": [
    "frames = Frames(\n",
    "    [\n",
    "        params(QuatRotation([0 0 1; 1 0 0; 0 1 0])^1);;\n",
    "        params(QuatRotation([0 0 1; 1 0 0; 0 1 0])^2);;\n",
    "        params(QuatRotation([0 0 1; 1 0 0; 0 1 0])^3);;\n",
    "    ],\n",
    "    [\n",
    "        0 10 100;\n",
    "        0 0 0;\n",
    "        0 0 0;\n",
    "    ]\n",
    ")"
   ]
  },
  {
   "cell_type": "code",
   "execution_count": 302,
   "metadata": {},
   "outputs": [
    {
     "data": {
      "text/plain": [
       "9-element Backbone{Float64, Matrix{Float64}}:\n",
       " [0.0, 3.0, 1.0]\n",
       " [0.0, 1.0, -1.0]\n",
       " [0.0, -4.0, 0.0]\n",
       " [11.0, 0.0, 3.0]\n",
       " [9.0, 0.0, 1.0]\n",
       " [10.0, 0.0, -4.0]\n",
       " [103.0, 1.0, 0.0]\n",
       " [101.0, -1.0, 0.0]\n",
       " [96.0, 0.0, 0.0]"
      ]
     },
     "metadata": {},
     "output_type": "display_data"
    }
   ],
   "source": [
    "standard_coords = [3 1 -4; 1 -1 0; 0 0 0]\n",
    "backbone = Backbone(frames, standard_coords)"
   ]
  },
  {
   "cell_type": "code",
   "execution_count": 303,
   "metadata": {},
   "outputs": [
    {
     "data": {
      "text/plain": [
       "3×9 Matrix{Float64}:\n",
       " 0.0   0.0   0.0  11.0  9.0  10.0  103.0  101.0  96.0\n",
       " 3.0   1.0  -4.0   0.0  0.0   0.0    1.0   -1.0   0.0\n",
       " 1.0  -1.0   0.0   3.0  1.0  -4.0    0.0    0.0   0.0"
      ]
     },
     "metadata": {},
     "output_type": "display_data"
    }
   ],
   "source": [
    "backbone.coords"
   ]
  },
  {
   "cell_type": "code",
   "execution_count": 286,
   "metadata": {},
   "outputs": [
    {
     "data": {
      "text/plain": [
       "3-element Vector{Float64}:\n",
       " 0.0\n",
       " 0.0\n",
       " 0.0"
      ]
     },
     "metadata": {},
     "output_type": "display_data"
    }
   ],
   "source": [
    "Frames(backbone, standard_frame)[1][2]"
   ]
  },
  {
   "cell_type": "code",
   "execution_count": 287,
   "metadata": {},
   "outputs": [
    {
     "data": {
      "text/plain": [
       "3×3 QuatRotation{Float64} with indices SOneTo(3)×SOneTo(3)(QuaternionF64(0.5, 0.5, 0.5, 0.5)):\n",
       " 0.0  0.0  1.0\n",
       " 1.0  0.0  0.0\n",
       " 0.0  1.0  0.0"
      ]
     },
     "metadata": {},
     "output_type": "display_data"
    }
   ],
   "source": [
    "frames[1][1] # different because we only have 2 points in the standard frame and rotation is equivalent to 90 degree rotation around z axis"
   ]
  },
  {
   "cell_type": "code",
   "execution_count": 29,
   "metadata": {},
   "outputs": [
    {
     "data": {
      "text/plain": [
       "true"
      ]
     },
     "metadata": {},
     "output_type": "display_data"
    }
   ],
   "source": [
    "backbone.coords == [\n",
    "    0  0  1  1  1  3;\n",
    "   -1  1  0  0  0  0;\n",
    "    0  0 -1  1  0  0;\n",
    "]"
   ]
  }
 ],
 "metadata": {
  "kernelspec": {
   "display_name": "Julia 1.10.0",
   "language": "julia",
   "name": "julia-1.10"
  },
  "language_info": {
   "file_extension": ".jl",
   "mimetype": "application/julia",
   "name": "julia",
   "version": "1.10.0"
  }
 },
 "nbformat": 4,
 "nbformat_minor": 2
}
