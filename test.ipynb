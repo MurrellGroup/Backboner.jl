{
 "cells": [
  {
   "cell_type": "code",
   "execution_count": null,
   "metadata": {},
   "outputs": [],
   "source": [
    "import Pkg; Pkg.activate(\".\")\n",
    "using Revise, Backboner"
   ]
  },
  {
   "cell_type": "code",
   "execution_count": null,
   "metadata": {},
   "outputs": [],
   "source": [
    "backbone = readpdb(\"test/data/1ASS.pdb\")[1].backbone"
   ]
  },
  {
   "cell_type": "code",
   "execution_count": null,
   "metadata": {},
   "outputs": [],
   "source": [
    "import BioStructures: Transformation\n",
    "import Rotations: QuatRotation\n",
    "import Statistics: mean"
   ]
  },
  {
   "cell_type": "code",
   "execution_count": null,
   "metadata": {},
   "outputs": [],
   "source": [
    "residuerotation(coords::AbstractMatrix) = QuatRotation(Transformation(Backboner.Protein.STANDARD_TRIANGLE_ANGSTROM, coords).rot)"
   ]
  },
  {
   "cell_type": "code",
   "execution_count": null,
   "metadata": {},
   "outputs": [],
   "source": [
    "# Algorithm 21 (x1: N, x2: Ca, x3: C)\n",
    "function rigid_from_3points(x1::AbstractVector, x2::AbstractVector, x3::AbstractVector)\n",
    "    v1 = x3 - x2\n",
    "    v2 = x1 - x2\n",
    "    e1 = normalize(v1)\n",
    "    u2 = v2 - e1 * (e1'v2)\n",
    "    e2 = normalize(u2)\n",
    "    e3 = cross(e1, e2)\n",
    "    R = [e1 e2 e3]\n",
    "    t = x2\n",
    "    return R, t\n",
    "end"
   ]
  },
  {
   "cell_type": "code",
   "execution_count": null,
   "metadata": {},
   "outputs": [],
   "source": [
    "QuatRotation.(eachslice(Backboner.backbone_to_locs_and_rots(backbone)[2], dims=3))"
   ]
  },
  {
   "cell_type": "code",
   "execution_count": null,
   "metadata": {},
   "outputs": [],
   "source": [
    "new_bb = Backboner.locs_and_rots_to_backbone(\n",
    "    hcat([mean(backbone.coords[:, i:i+2], dims=2) for i in 1:3:length(backbone)]...),\n",
    "    stack(residuerotation.([backbone.coords[:, i:i+2] for i in 1:3:length(backbone)]))\n",
    ")"
   ]
  },
  {
   "cell_type": "code",
   "execution_count": null,
   "metadata": {},
   "outputs": [],
   "source": []
  },
  {
   "cell_type": "code",
   "execution_count": null,
   "metadata": {},
   "outputs": [],
   "source": [
    "Backboner.backbone_to_locs_and_rots(backbone)[2]"
   ]
  }
 ],
 "metadata": {
  "kernelspec": {
   "display_name": "Julia 1.10.0",
   "language": "julia",
   "name": "julia-1.10"
  },
  "language_info": {
   "file_extension": ".jl",
   "mimetype": "application/julia",
   "name": "julia",
   "version": "1.10.0"
  }
 },
 "nbformat": 4,
 "nbformat_minor": 2
}
