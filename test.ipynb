{
 "cells": [
  {
   "cell_type": "code",
   "execution_count": null,
   "metadata": {},
   "outputs": [],
   "source": [
    "@enum SecondaryStructure MiSSing, Loop, Helix, Strand\n",
    "\n",
    "struct Backbone{T}\n",
    "    chain::Chain{T}\n",
    "    coords::AbstractArray{T, 3}\n",
    "end\n",
    "\n",
    "struct Residue{T}\n",
    "    id::AbstractString\n",
    "    index::Int\n",
    "    coords::AbstractArray{T, 2}\n",
    "    ss::SecondaryStructure\n",
    "end\n",
    "\n",
    "struct Chain{T}\n",
    "    id::AbstractString\n",
    "    backbone::Backbone{T}\n",
    "    ssvector::Vector{SecondaryStructure}\n",
    "end\n",
    "\n",
    "struct Protein{T}\n",
    "    chains::Vector{Chain{T}}\n",
    "end"
   ]
  }
 ],
 "metadata": {
  "kernelspec": {
   "display_name": "Julia 1.9.3",
   "language": "julia",
   "name": "julia-1.9"
  },
  "language_info": {
   "file_extension": ".jl",
   "mimetype": "application/julia",
   "name": "julia",
   "version": "1.9.3"
  }
 },
 "nbformat": 4,
 "nbformat_minor": 2
}
